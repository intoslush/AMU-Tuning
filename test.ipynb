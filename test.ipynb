{
 "cells": [
  {
   "cell_type": "code",
   "execution_count": 1,
   "metadata": {},
   "outputs": [],
   "source": [
    "import os\n",
    "import random\n",
    "from tqdm import tqdm\n",
    "\n",
    "import torch\n",
    "\n",
    "from datasets.imagenet import ImageNet\n",
    "import clip\n",
    "from utils import *\n",
    "from clip.moco import load_moco\n",
    "from clip.amu import *\n",
    "from parse_args import parse_args"
   ]
  },
  {
   "cell_type": "code",
   "execution_count": 2,
   "metadata": {},
   "outputs": [],
   "source": [
    "parser = parse_args()\n",
    "# args = parser.parse_args()\n",
    "args, _ = parser.parse_known_args(['--rand_seed', '2',\n",
    "                                  '--torch_rand_seed', '1',\n",
    "                                  '--exp_name', 'test_16_shot',\n",
    "                                  '--clip_backbone', 'ViT-B-16',\n",
    "                                  '--augment_epoch', '1',\n",
    "                                  '--alpha', '0.5',\n",
    "                                  '--lambda_merge', '0.35',\n",
    "                                  '--train_epoch', '10',\n",
    "                                  '--lr', '1e-3',\n",
    "                                  '--batch_size', '8',\n",
    "                                  '--shots', '4',\n",
    "                                  '--root_path', 'data',\n",
    "                                  '--dataset','oxford_pets',\n",
    "                                #   '--load_aux_weight'\n",
    "                                  ])"
   ]
  },
  {
   "cell_type": "code",
   "execution_count": 3,
   "metadata": {},
   "outputs": [
    {
     "name": "stderr",
     "output_type": "stream",
     "text": [
      "2024-07-09 20:36 - INFO: - \n",
      "Running configs.\n",
      "2024-07-09 20:36 - INFO: - exp_name            : test_16_shot\n",
      "rand_seed           : 2\n",
      "torch_rand_seed     : 1\n",
      "root_path           : data\n",
      "dataset             : oxford_pets\n",
      "shots               : 4\n",
      "train_epoch         : 10\n",
      "lr                  : 0.001\n",
      "load_pre_feat       : False\n",
      "clip_backbone       : ViT-B-16\n",
      "batch_size          : 8\n",
      "val_batch_size      : 256\n",
      "num_classes         : 1000\n",
      "augment_epoch       : 1\n",
      "load_aux_weight     : False\n",
      "alpha               : 0.5\n",
      "lambda_merge        : 0.35\n",
      "uncent_type         : none\n",
      "uncent_power        : 0.4\n",
      "cache_dir           : ./caches/oxford_pets\n"
     ]
    }
   ],
   "source": [
    "cache_dir = os.path.join('./caches', args.dataset)\n",
    "os.makedirs(cache_dir, exist_ok=True)\n",
    "args.cache_dir = cache_dir\n",
    "\n",
    "logger = config_logging(args)\n",
    "logger.info(\"\\nRunning configs.\")\n",
    "args_dict = vars(args)\n",
    "message = '\\n'.join([f'{k:<20}: {v}' for k, v in args_dict.items()])\n",
    "logger.info(message)"
   ]
  },
  {
   "cell_type": "code",
   "execution_count": 4,
   "metadata": {},
   "outputs": [
    {
     "name": "stdout",
     "output_type": "stream",
     "text": [
      "=> creating model\n",
      "=> loading checkpoint 'data/r-50-1000ep.pth.tar'\n",
      "_IncompatibleKeys(missing_keys=['fc.weight', 'fc.bias'], unexpected_keys=[])\n",
      "=> loaded pre-trained model 'data/r-50-1000ep.pth.tar'\n"
     ]
    },
    {
     "data": {
      "text/plain": [
       "<torch._C.Generator at 0x7effa33df490>"
      ]
     },
     "execution_count": 4,
     "metadata": {},
     "output_type": "execute_result"
    }
   ],
   "source": [
    "\n",
    "# CLIP\n",
    "clip_model, preprocess = clip.load(args.clip_backbone)\n",
    "clip_model.eval()\n",
    "# AUX MODEL \n",
    "aux_model, args.feat_dim = load_moco(\"data/r-50-1000ep.pth.tar\")#Aux model path\n",
    "    \n",
    "aux_model.cuda()\n",
    "aux_model.eval() \n",
    "\n",
    "# ImageNet dataset\n",
    "random.seed(args.rand_seed)\n",
    "torch.manual_seed(args.torch_rand_seed)"
   ]
  },
  {
   "cell_type": "code",
   "execution_count": 5,
   "metadata": {},
   "outputs": [],
   "source": [
    "from datasets import build_dataset\n",
    "from datasets.utils import build_data_loader\n"
   ]
  },
  {
   "cell_type": "code",
   "execution_count": 6,
   "metadata": {},
   "outputs": [
    {
     "name": "stdout",
     "output_type": "stream",
     "text": [
      "Splitting into 50% train, 20% val, and 30% test\n",
      "Creating a 4-shot dataset\n"
     ]
    }
   ],
   "source": [
    "from datasets.oxford_pets import OxfordPets\n",
    "from datasets.my_test_set import MyDataSet\n",
    "from utils import tfm_train_base, tfm_test_base\n",
    "\n",
    "dataset=MyDataSet(\"data\",4)\n",
    "val_loader = build_data_loader(data_source=dataset.val, batch_size=64, is_train=False, tfm=tfm_test_base, shuffle=False)\n",
    "test_loader = build_data_loader(data_source=dataset.test, batch_size=64, is_train=False, tfm=tfm_test_base, shuffle=False)\n",
    "\n",
    "train_loader_cache = build_data_loader(data_source=dataset.train_x, batch_size=256, tfm=tfm_train_base, is_train=True, shuffle=False)#用于给辅助模型\n",
    "train_loader_F = build_data_loader(data_source=dataset.train_x, batch_size=256, tfm=tfm_train_base, is_train=True, shuffle=True)#用于训练\n",
    "\n"
   ]
  },
  {
   "cell_type": "code",
   "execution_count": 7,
   "metadata": {},
   "outputs": [
    {
     "name": "stdout",
     "output_type": "stream",
     "text": [
      "Batch 1\n",
      "Data: torch.Size([256, 3, 224, 224])\n",
      "Labels: torch.Size([256])\n",
      "Batch 2\n",
      "Data: torch.Size([256, 3, 224, 224])\n",
      "Labels: torch.Size([256])\n",
      "Batch 3\n",
      "Data: torch.Size([256, 3, 224, 224])\n",
      "Labels: torch.Size([256])\n",
      "Batch 4\n",
      "Data: torch.Size([256, 3, 224, 224])\n",
      "Labels: torch.Size([256])\n"
     ]
    }
   ],
   "source": [
    "for i, (data, labels) in enumerate(train_loader_cache):\n",
    "    print(f\"Batch {i + 1}\")\n",
    "    print(\"Data:\", data.shape)\n",
    "    print(\"Labels:\", labels.shape)\n",
    "    if i == 3: \n",
    "        break"
   ]
  },
  {
   "cell_type": "code",
   "execution_count": 8,
   "metadata": {},
   "outputs": [
    {
     "name": "stderr",
     "output_type": "stream",
     "text": [
      "2024-07-09 20:36 - INFO: - Getting textual features as CLIP's classifier...\n"
     ]
    }
   ],
   "source": [
    "# Textual features\n",
    "logger.info(\"Getting textual features as CLIP's classifier...\")\n",
    "clip_weights = gpt_clip_classifier(dataset.classnames, clip_model, dataset.template)\n"
   ]
  },
  {
   "cell_type": "code",
   "execution_count": 9,
   "metadata": {},
   "outputs": [
    {
     "name": "stderr",
     "output_type": "stream",
     "text": [
      "2024-07-09 20:36 - INFO: - Load visual features of few-shot training set...\n"
     ]
    },
    {
     "name": "stdout",
     "output_type": "stream",
     "text": [
      "Augment Epoch: 0 / 1\n"
     ]
    },
    {
     "name": "stderr",
     "output_type": "stream",
     "text": [
      "100%|██████████| 6/6 [00:06<00:00,  1.08s/it]\n"
     ]
    }
   ],
   "source": [
    "# Load visual features of few-shot training set\n",
    "logger.info(\"Load visual features of few-shot training set...\")\n",
    "aux_features, aux_labels = load_aux_weight(args, aux_model, train_loader_cache, tfm_norm=tfm_aux)\n"
   ]
  },
  {
   "cell_type": "code",
   "execution_count": 10,
   "metadata": {},
   "outputs": [
    {
     "name": "stderr",
     "output_type": "stream",
     "text": [
      "2024-07-09 20:37 - INFO: - Loading visual features and labels from test set.\n",
      "2024-07-09 20:37 - INFO: - Loading CLIP test feature.\n",
      "100%|██████████| 852/852 [02:33<00:00,  5.54it/s]\n",
      "2024-07-09 20:39 - INFO: - Loading AUX test feature.\n",
      "100%|██████████| 852/852 [02:29<00:00,  5.72it/s]\n"
     ]
    }
   ],
   "source": [
    "\n",
    "# Pre-load test features\n",
    "logger.info(\"Loading visual features and labels from test set.\")\n",
    "logger.info(\"Loading CLIP test feature.\")\n",
    "test_clip_features, test_labels  = load_test_features(args, \"test\", clip_model, test_loader, tfm_norm=tfm_clip, model_name='clip')\n",
    "\n",
    "logger.info(f\"Loading AUX test feature.\")\n",
    "test_aux_features, test_labels = load_test_features(args, \"test\", aux_model, test_loader, tfm_norm=tfm_aux, model_name='aux')\n",
    "\n",
    "test_clip_features = test_clip_features.cuda()\n",
    "test_aux_features = test_aux_features.cuda()\n"
   ]
  },
  {
   "cell_type": "code",
   "execution_count": 11,
   "metadata": {},
   "outputs": [
    {
     "name": "stdout",
     "output_type": "stream",
     "text": [
      "39996/ 54510 = 73.37%\n"
     ]
    }
   ],
   "source": [
    "\n",
    "# zero shot\n",
    "tmp =  test_clip_features / test_clip_features.norm(dim=-1, keepdim=True)\n",
    "l = 100. * tmp @ clip_weights\n",
    "print(f\"{l.argmax(dim=-1).eq(test_labels.cuda()).sum().item()}/ {len(test_labels)} = {l.argmax(dim=-1).eq(test_labels.cuda()).sum().item()/len(test_labels) * 100:.2f}%\")\n"
   ]
  },
  {
   "cell_type": "code",
   "execution_count": 12,
   "metadata": {},
   "outputs": [
    {
     "name": "stdout",
     "output_type": "stream",
     "text": [
      "init adapter weight by training samples...\n"
     ]
    }
   ],
   "source": [
    "# build amu-model\n",
    "model = AMU_Model(\n",
    "    clip_model=clip_model,\n",
    "    aux_model=aux_model,\n",
    "    sample_features=[aux_features, aux_labels],\n",
    "    clip_weights=clip_weights,\n",
    "    feat_dim=args.feat_dim,\n",
    "    class_num=374,\n",
    "    lambda_merge=args.lambda_merge,\n",
    "    alpha=args.alpha,\n",
    "    uncent_type=args.uncent_type,\n",
    "    uncent_power=args.uncent_power\n",
    ")\n"
   ]
  },
  {
   "cell_type": "code",
   "execution_count": 13,
   "metadata": {},
   "outputs": [],
   "source": [
    "def freeze_bn(m):\n",
    "    classname = m.__class__.__name__\n",
    "    if classname.find('BatchNorm') != -1:\n",
    "        m.eval()\n"
   ]
  },
  {
   "cell_type": "code",
   "execution_count": 14,
   "metadata": {},
   "outputs": [],
   "source": [
    "\n",
    "def train_one_epoch(model, data_loader, optimizer, scheduler, logger):\n",
    "    # Train\n",
    "    model.train()\n",
    "    model.apply(freeze_bn) # freeze BN-layer\n",
    "    correct_samples, all_samples = 0, 0\n",
    "    loss_list = []\n",
    "    loss_aux_list = []\n",
    "    loss_merge_list = [] \n",
    "\n",
    "    # origin image\n",
    "    for i, (images, target) in enumerate(tqdm(data_loader)):\n",
    "        images, target = images.cuda(), target.cuda()\n",
    "        return_dict = model(images, labels=target)\n",
    "        \n",
    "        acc = cls_acc(return_dict['logits'], target)\n",
    "        correct_samples += acc / 100 * len(return_dict['logits'])\n",
    "        all_samples += len(return_dict['logits'])\n",
    "        \n",
    "        loss_list.append(return_dict['loss'].item())\n",
    "        loss_aux_list.append(return_dict['loss_aux'].item())\n",
    "        loss_merge_list.append(return_dict['loss_merge'].item())\n",
    "        \n",
    "        optimizer.zero_grad()\n",
    "        return_dict['loss'].backward()\n",
    "        optimizer.step()\n",
    "        scheduler.step()\n",
    "\n",
    "    current_lr = scheduler.get_last_lr()[0]\n",
    "    logger.info('LR: {:.6f}, Acc: {:.4f} ({:}/{:}), Loss: {:.4f}'.format(current_lr, correct_samples / all_samples, correct_samples, all_samples, sum(loss_list)/len(loss_list)))\n",
    "    logger.info(\"\"\"Loss_aux: {:.4f}, Loss_merge: {:.4f}\"\"\".format(sum(loss_aux_list)/len(loss_aux_list), sum(loss_merge_list)/len(loss_merge_list))) "
   ]
  },
  {
   "cell_type": "code",
   "execution_count": 15,
   "metadata": {},
   "outputs": [],
   "source": [
    "\n",
    "def train_and_eval(args, logger, model, clip_test_features, \n",
    " aux_test_features, test_labels, train_loader_F):\n",
    "    model.cuda()\n",
    "    model.requires_grad_(False)\n",
    "    model.aux_adapter.requires_grad_(True)\n",
    "    \n",
    "    optimizer = torch.optim.AdamW(\n",
    "        model.parameters(),\n",
    "        weight_decay=0.01,\n",
    "        lr=args.lr, \n",
    "        eps=1e-4\n",
    "        )\n",
    "    \n",
    "    scheduler = torch.optim.lr_scheduler.CosineAnnealingLR(optimizer, args.train_epoch * len(train_loader_F))\n",
    "    \n",
    "    best_acc, best_epoch = 0.0, 0\n",
    "\n",
    "    for train_idx in range(1, args.train_epoch + 1):\n",
    "        logger.info('Train Epoch: {:} / {:}'.format(train_idx, args.train_epoch))\n",
    "        train_one_epoch(model, train_loader_F, optimizer, scheduler, logger)\n",
    "        # Eval\n",
    "        model.eval()\n",
    "        with torch.no_grad():\n",
    "            return_dict = model(\n",
    "                clip_features=clip_test_features,\n",
    "                aux_features=aux_test_features,\n",
    "                labels=test_labels\n",
    "            )\n",
    "            acc = cls_acc(return_dict['logits'], test_labels)\n",
    "            acc_aux = cls_acc(return_dict['aux_logits'], test_labels)\n",
    "        logger.info(\"----- Aux branch's Test Acc: {:.2f} ----\".format(acc_aux))\n",
    "        logger.info(\"----- AMU's Test Acc: {:.2f} -----\\n\".format(acc))\n",
    "\n",
    "        if acc > best_acc:\n",
    "            best_acc = acc\n",
    "            best_epoch = train_idx\n",
    "            torch.save(model.aux_adapter.state_dict(), args.cache_dir + f\"/best_adapter_\" + str(args.shots) + \"shots.pt\")\n",
    "    logger.info(f\"----- Best Test Acc: {best_acc:.2f}, at epoch: {best_epoch}.-----\\n\")\n"
   ]
  },
  {
   "cell_type": "code",
   "execution_count": 16,
   "metadata": {},
   "outputs": [
    {
     "name": "stderr",
     "output_type": "stream",
     "text": [
      "2024-07-09 20:42 - INFO: - Train Epoch: 1 / 10\n",
      "100%|██████████| 6/6 [00:10<00:00,  1.82s/it]\n",
      "2024-07-09 20:42 - INFO: - LR: 0.000976, Acc: 0.8643 (1293.0/1496), Loss: 0.8214\n",
      "2024-07-09 20:42 - INFO: - Loss_aux: 1.0131, Loss_merge: 0.4655\n"
     ]
    },
    {
     "ename": "RuntimeError",
     "evalue": "Expected all tensors to be on the same device, but found at least two devices, cuda:0 and cpu! (when checking argument for argument target in method wrapper_CUDA_nll_loss_forward)",
     "output_type": "error",
     "traceback": [
      "\u001b[0;31m---------------------------------------------------------------------------\u001b[0m",
      "\u001b[0;31mRuntimeError\u001b[0m                              Traceback (most recent call last)",
      "Cell \u001b[0;32mIn[16], line 1\u001b[0m\n\u001b[0;32m----> 1\u001b[0m \u001b[43mtrain_and_eval\u001b[49m\u001b[43m(\u001b[49m\u001b[43margs\u001b[49m\u001b[43m,\u001b[49m\u001b[43m \u001b[49m\u001b[43mlogger\u001b[49m\u001b[43m,\u001b[49m\u001b[43m \u001b[49m\u001b[43mmodel\u001b[49m\u001b[43m,\u001b[49m\u001b[43m \u001b[49m\u001b[43mtest_clip_features\u001b[49m\u001b[43m,\u001b[49m\u001b[43m  \u001b[49m\u001b[43mtest_aux_features\u001b[49m\u001b[43m,\u001b[49m\u001b[43m \u001b[49m\u001b[43mtest_labels\u001b[49m\u001b[43m,\u001b[49m\u001b[43m \u001b[49m\u001b[43mtrain_loader_F\u001b[49m\u001b[43m \u001b[49m\u001b[43m)\u001b[49m\n",
      "Cell \u001b[0;32mIn[15], line 24\u001b[0m, in \u001b[0;36mtrain_and_eval\u001b[0;34m(args, logger, model, clip_test_features, aux_test_features, test_labels, train_loader_F)\u001b[0m\n\u001b[1;32m     22\u001b[0m model\u001b[38;5;241m.\u001b[39meval()\n\u001b[1;32m     23\u001b[0m \u001b[38;5;28;01mwith\u001b[39;00m torch\u001b[38;5;241m.\u001b[39mno_grad():\n\u001b[0;32m---> 24\u001b[0m     return_dict \u001b[38;5;241m=\u001b[39m \u001b[43mmodel\u001b[49m\u001b[43m(\u001b[49m\n\u001b[1;32m     25\u001b[0m \u001b[43m        \u001b[49m\u001b[43mclip_features\u001b[49m\u001b[38;5;241;43m=\u001b[39;49m\u001b[43mclip_test_features\u001b[49m\u001b[43m,\u001b[49m\n\u001b[1;32m     26\u001b[0m \u001b[43m        \u001b[49m\u001b[43maux_features\u001b[49m\u001b[38;5;241;43m=\u001b[39;49m\u001b[43maux_test_features\u001b[49m\u001b[43m,\u001b[49m\n\u001b[1;32m     27\u001b[0m \u001b[43m        \u001b[49m\u001b[43mlabels\u001b[49m\u001b[38;5;241;43m=\u001b[39;49m\u001b[43mtest_labels\u001b[49m\n\u001b[1;32m     28\u001b[0m \u001b[43m    \u001b[49m\u001b[43m)\u001b[49m\n\u001b[1;32m     29\u001b[0m     acc \u001b[38;5;241m=\u001b[39m cls_acc(return_dict[\u001b[38;5;124m'\u001b[39m\u001b[38;5;124mlogits\u001b[39m\u001b[38;5;124m'\u001b[39m], test_labels)\n\u001b[1;32m     30\u001b[0m     acc_aux \u001b[38;5;241m=\u001b[39m cls_acc(return_dict[\u001b[38;5;124m'\u001b[39m\u001b[38;5;124maux_logits\u001b[39m\u001b[38;5;124m'\u001b[39m], test_labels)\n",
      "File \u001b[0;32m~/miniconda3/envs/pyt/lib/python3.10/site-packages/torch/nn/modules/module.py:1501\u001b[0m, in \u001b[0;36mModule._call_impl\u001b[0;34m(self, *args, **kwargs)\u001b[0m\n\u001b[1;32m   1496\u001b[0m \u001b[38;5;66;03m# If we don't have any hooks, we want to skip the rest of the logic in\u001b[39;00m\n\u001b[1;32m   1497\u001b[0m \u001b[38;5;66;03m# this function, and just call forward.\u001b[39;00m\n\u001b[1;32m   1498\u001b[0m \u001b[38;5;28;01mif\u001b[39;00m \u001b[38;5;129;01mnot\u001b[39;00m (\u001b[38;5;28mself\u001b[39m\u001b[38;5;241m.\u001b[39m_backward_hooks \u001b[38;5;129;01mor\u001b[39;00m \u001b[38;5;28mself\u001b[39m\u001b[38;5;241m.\u001b[39m_backward_pre_hooks \u001b[38;5;129;01mor\u001b[39;00m \u001b[38;5;28mself\u001b[39m\u001b[38;5;241m.\u001b[39m_forward_hooks \u001b[38;5;129;01mor\u001b[39;00m \u001b[38;5;28mself\u001b[39m\u001b[38;5;241m.\u001b[39m_forward_pre_hooks\n\u001b[1;32m   1499\u001b[0m         \u001b[38;5;129;01mor\u001b[39;00m _global_backward_pre_hooks \u001b[38;5;129;01mor\u001b[39;00m _global_backward_hooks\n\u001b[1;32m   1500\u001b[0m         \u001b[38;5;129;01mor\u001b[39;00m _global_forward_hooks \u001b[38;5;129;01mor\u001b[39;00m _global_forward_pre_hooks):\n\u001b[0;32m-> 1501\u001b[0m     \u001b[38;5;28;01mreturn\u001b[39;00m \u001b[43mforward_call\u001b[49m\u001b[43m(\u001b[49m\u001b[38;5;241;43m*\u001b[39;49m\u001b[43margs\u001b[49m\u001b[43m,\u001b[49m\u001b[43m \u001b[49m\u001b[38;5;241;43m*\u001b[39;49m\u001b[38;5;241;43m*\u001b[39;49m\u001b[43mkwargs\u001b[49m\u001b[43m)\u001b[49m\n\u001b[1;32m   1502\u001b[0m \u001b[38;5;66;03m# Do not call functions when jit is used\u001b[39;00m\n\u001b[1;32m   1503\u001b[0m full_backward_hooks, non_full_backward_hooks \u001b[38;5;241m=\u001b[39m [], []\n",
      "File \u001b[0;32m~/AMU-Tuning/clip/amu.py:112\u001b[0m, in \u001b[0;36mAMU_Model.forward\u001b[0;34m(self, images, clip_features, aux_features, labels)\u001b[0m\n\u001b[1;32m    110\u001b[0m \u001b[38;5;66;03m# loss\u001b[39;00m\n\u001b[1;32m    111\u001b[0m \u001b[38;5;28;01mif\u001b[39;00m labels \u001b[38;5;129;01mis\u001b[39;00m \u001b[38;5;129;01mnot\u001b[39;00m \u001b[38;5;28;01mNone\u001b[39;00m:\n\u001b[0;32m--> 112\u001b[0m     loss_merge \u001b[38;5;241m=\u001b[39m \u001b[43mF\u001b[49m\u001b[38;5;241;43m.\u001b[39;49m\u001b[43mcross_entropy\u001b[49m\u001b[43m(\u001b[49m\u001b[43mlogits\u001b[49m\u001b[43m,\u001b[49m\u001b[43m \u001b[49m\u001b[43mlabels\u001b[49m\u001b[43m)\u001b[49m\n\u001b[1;32m    113\u001b[0m     loss_aux \u001b[38;5;241m=\u001b[39m F\u001b[38;5;241m.\u001b[39mcross_entropy(aux_logits, labels)\n\u001b[1;32m    114\u001b[0m     loss \u001b[38;5;241m=\u001b[39m \u001b[38;5;28mself\u001b[39m\u001b[38;5;241m.\u001b[39mlambda_merge \u001b[38;5;241m*\u001b[39m loss_merge \u001b[38;5;241m+\u001b[39m (\u001b[38;5;241m1\u001b[39m \u001b[38;5;241m-\u001b[39m \u001b[38;5;28mself\u001b[39m\u001b[38;5;241m.\u001b[39mlambda_merge) \u001b[38;5;241m*\u001b[39m loss_aux\n",
      "File \u001b[0;32m~/miniconda3/envs/pyt/lib/python3.10/site-packages/torch/nn/functional.py:3029\u001b[0m, in \u001b[0;36mcross_entropy\u001b[0;34m(input, target, weight, size_average, ignore_index, reduce, reduction, label_smoothing)\u001b[0m\n\u001b[1;32m   3027\u001b[0m \u001b[38;5;28;01mif\u001b[39;00m size_average \u001b[38;5;129;01mis\u001b[39;00m \u001b[38;5;129;01mnot\u001b[39;00m \u001b[38;5;28;01mNone\u001b[39;00m \u001b[38;5;129;01mor\u001b[39;00m reduce \u001b[38;5;129;01mis\u001b[39;00m \u001b[38;5;129;01mnot\u001b[39;00m \u001b[38;5;28;01mNone\u001b[39;00m:\n\u001b[1;32m   3028\u001b[0m     reduction \u001b[38;5;241m=\u001b[39m _Reduction\u001b[38;5;241m.\u001b[39mlegacy_get_string(size_average, reduce)\n\u001b[0;32m-> 3029\u001b[0m \u001b[38;5;28;01mreturn\u001b[39;00m \u001b[43mtorch\u001b[49m\u001b[38;5;241;43m.\u001b[39;49m\u001b[43m_C\u001b[49m\u001b[38;5;241;43m.\u001b[39;49m\u001b[43m_nn\u001b[49m\u001b[38;5;241;43m.\u001b[39;49m\u001b[43mcross_entropy_loss\u001b[49m\u001b[43m(\u001b[49m\u001b[38;5;28;43minput\u001b[39;49m\u001b[43m,\u001b[49m\u001b[43m \u001b[49m\u001b[43mtarget\u001b[49m\u001b[43m,\u001b[49m\u001b[43m \u001b[49m\u001b[43mweight\u001b[49m\u001b[43m,\u001b[49m\u001b[43m \u001b[49m\u001b[43m_Reduction\u001b[49m\u001b[38;5;241;43m.\u001b[39;49m\u001b[43mget_enum\u001b[49m\u001b[43m(\u001b[49m\u001b[43mreduction\u001b[49m\u001b[43m)\u001b[49m\u001b[43m,\u001b[49m\u001b[43m \u001b[49m\u001b[43mignore_index\u001b[49m\u001b[43m,\u001b[49m\u001b[43m \u001b[49m\u001b[43mlabel_smoothing\u001b[49m\u001b[43m)\u001b[49m\n",
      "\u001b[0;31mRuntimeError\u001b[0m: Expected all tensors to be on the same device, but found at least two devices, cuda:0 and cpu! (when checking argument for argument target in method wrapper_CUDA_nll_loss_forward)"
     ]
    }
   ],
   "source": [
    "\n",
    "train_and_eval(args, logger, model, test_clip_features,  test_aux_features, test_labels, train_loader_F )"
   ]
  },
  {
   "cell_type": "code",
   "execution_count": null,
   "metadata": {},
   "outputs": [],
   "source": [
    "\n",
    "best_adapter_path = args.cache_dir + f\"/best_adapter_{args.shots}shots.pt\"\n",
    "# 将加载的适配器参数设置到你的主模型中，假设 model 有一个叫做 aux_adapter 的属性\n",
    "model.aux_adapter.load_state_dict(torch.load(best_adapter_path))"
   ]
  },
  {
   "cell_type": "code",
   "execution_count": null,
   "metadata": {},
   "outputs": [],
   "source": [
    "from datasets import my_test_set_2\n",
    "from datasets.my_test_set_2 import MyDataSet2\n",
    "\n",
    "import importlib\n",
    "importlib.reload(my_test_set_2)"
   ]
  },
  {
   "cell_type": "code",
   "execution_count": null,
   "metadata": {},
   "outputs": [],
   "source": [
    "dataset=MyDataSet2(\"data\",4)\n",
    "test_loader = build_data_loader(data_source=dataset.test, batch_size=64, is_train=False, tfm=tfm_test_base, shuffle=False)"
   ]
  },
  {
   "cell_type": "code",
   "execution_count": null,
   "metadata": {},
   "outputs": [],
   "source": [
    "# for i, (data, labels) in enumerate(test_loader):\n",
    "#     print(f\"Batch {i + 1}\")\n",
    "#     print(\"Data:\", data.shape)\n",
    "#     print(\"Labels:\", labels.shape)\n",
    "#     if i == 3: \n",
    "#         break"
   ]
  },
  {
   "cell_type": "code",
   "execution_count": null,
   "metadata": {},
   "outputs": [],
   "source": [
    "test_clip_features, test_labels  = load_test_features(args, \"test\", clip_model, test_loader, tfm_norm=tfm_clip, model_name='clip')\n",
    "\n",
    "logger.info(f\"Loading AUX test feature.\")\n",
    "test_aux_features, test_labels = load_test_features(args, \"test\", aux_model, test_loader, tfm_norm=tfm_aux, model_name='aux')"
   ]
  },
  {
   "cell_type": "code",
   "execution_count": null,
   "metadata": {},
   "outputs": [],
   "source": [
    "model.eval()\n",
    "return_dict = model(clip_features=test_clip_features,aux_features=test_aux_features)"
   ]
  },
  {
   "cell_type": "code",
   "execution_count": null,
   "metadata": {},
   "outputs": [],
   "source": [
    "return_dict['logits'].shape"
   ]
  },
  {
   "cell_type": "code",
   "execution_count": null,
   "metadata": {},
   "outputs": [],
   "source": [
    "return_dict['logits'][0].shape\n",
    "pred = return_dict['logits'].topk(5, 1, True, True)[1].t()"
   ]
  },
  {
   "cell_type": "code",
   "execution_count": null,
   "metadata": {},
   "outputs": [],
   "source": [
    "pred"
   ]
  },
  {
   "cell_type": "code",
   "execution_count": null,
   "metadata": {},
   "outputs": [],
   "source": [
    "test_labels[0]"
   ]
  },
  {
   "cell_type": "code",
   "execution_count": 18,
   "metadata": {},
   "outputs": [
    {
     "data": {
      "text/plain": [
       "'1.'"
      ]
     },
     "execution_count": 18,
     "metadata": {},
     "output_type": "execute_result"
    }
   ],
   "source": [
    "'image_1.jpg'.split('_')[1][:-4]"
   ]
  },
  {
   "cell_type": "code",
   "execution_count": null,
   "metadata": {},
   "outputs": [],
   "source": []
  }
 ],
 "metadata": {
  "kernelspec": {
   "display_name": "pyt",
   "language": "python",
   "name": "python3"
  },
  "language_info": {
   "codemirror_mode": {
    "name": "ipython",
    "version": 3
   },
   "file_extension": ".py",
   "mimetype": "text/x-python",
   "name": "python",
   "nbconvert_exporter": "python",
   "pygments_lexer": "ipython3",
   "version": "3.10.11"
  }
 },
 "nbformat": 4,
 "nbformat_minor": 2
}
