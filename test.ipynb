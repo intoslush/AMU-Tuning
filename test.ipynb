{
 "cells": [
  {
   "cell_type": "code",
   "execution_count": null,
   "metadata": {},
   "outputs": [],
   "source": [
    "import os\n",
    "import random\n",
    "from tqdm import tqdm\n",
    "\n",
    "import torch\n",
    "\n",
    "from datasets.imagenet import ImageNet\n",
    "import clip\n",
    "from utils import *\n",
    "from clip.moco import load_moco\n",
    "from clip.amu import *\n",
    "from parse_args import parse_args"
   ]
  },
  {
   "cell_type": "code",
   "execution_count": null,
   "metadata": {},
   "outputs": [],
   "source": [
    "parser = parse_args()\n",
    "# args = parser.parse_args()\n",
    "args, _ = parser.parse_known_args(['--rand_seed', '2',\n",
    "                                  '--torch_rand_seed', '1',\n",
    "                                  '--exp_name', 'test_16_shot',\n",
    "                                  '--clip_backbone', 'ViT-B-32',\n",
    "                                  '--augment_epoch', '1',\n",
    "                                  '--alpha', '0.5',\n",
    "                                  '--lambda_merge', '0.35',\n",
    "                                  '--train_epoch', '10',\n",
    "                                  '--lr', '1e-3',\n",
    "                                  '--batch_size', '8',\n",
    "                                  '--shots', '4',\n",
    "                                  '--root_path', 'data',\n",
    "                                  '--dataset','oxford_pets',\n",
    "                                  '--uncent_type','max'\n",
    "                                #   '--load_aux_weight'\n",
    "                                  ])"
   ]
  },
  {
   "cell_type": "code",
   "execution_count": null,
   "metadata": {},
   "outputs": [],
   "source": [
    "cache_dir = os.path.join('./caches', args.dataset)\n",
    "os.makedirs(cache_dir, exist_ok=True)\n",
    "args.cache_dir = cache_dir\n",
    "\n",
    "logger = config_logging(args)\n",
    "logger.info(\"\\nRunning configs.\")\n",
    "args_dict = vars(args)\n",
    "message = '\\n'.join([f'{k:<20}: {v}' for k, v in args_dict.items()])\n",
    "logger.info(message)"
   ]
  },
  {
   "cell_type": "code",
   "execution_count": 4,
   "metadata": {},
   "outputs": [
    {
     "name": "stdout",
     "output_type": "stream",
     "text": [
      "=> creating model\n",
      "=> loading checkpoint 'data/r-50-1000ep.pth.tar'\n",
      "_IncompatibleKeys(missing_keys=['fc.weight', 'fc.bias'], unexpected_keys=[])\n",
      "=> loaded pre-trained model 'data/r-50-1000ep.pth.tar'\n"
     ]
    },
    {
     "data": {
      "text/plain": [
       "<torch._C.Generator at 0x7f3fc8b8b490>"
      ]
     },
     "execution_count": 4,
     "metadata": {},
     "output_type": "execute_result"
    }
   ],
   "source": [
    "\n",
    "# CLIP\n",
    "clip_model, preprocess = clip.load(args.clip_backbone)\n",
    "clip_model.eval()\n",
    "# AUX MODEL \n",
    "aux_model, args.feat_dim = load_moco(\"data/r-50-1000ep.pth.tar\")#Aux model path\n",
    "    \n",
    "aux_model.cuda()\n",
    "aux_model.eval() \n",
    "\n",
    "# ImageNet dataset\n",
    "random.seed(args.rand_seed)\n",
    "torch.manual_seed(args.torch_rand_seed)"
   ]
  },
  {
   "cell_type": "code",
   "execution_count": 5,
   "metadata": {},
   "outputs": [],
   "source": [
    "from datasets import build_dataset\n",
    "from datasets.utils import build_data_loader\n"
   ]
  },
  {
   "cell_type": "code",
   "execution_count": 6,
   "metadata": {},
   "outputs": [
    {
     "name": "stdout",
     "output_type": "stream",
     "text": [
      "Splitting into 50% train, 20% val, and 30% test\n",
      "Creating a 4-shot dataset\n"
     ]
    }
   ],
   "source": [
    "from datasets.oxford_pets import OxfordPets\n",
    "from datasets.my_test_set import MyDataSet\n",
    "from utils import tfm_train_base, tfm_test_base\n",
    "\n",
    "dataset=MyDataSet(\"data\",4)\n",
    "val_loader = build_data_loader(data_source=dataset.val, batch_size=64, is_train=False, tfm=tfm_test_base, shuffle=False)\n",
    "test_loader = build_data_loader(data_source=dataset.test, batch_size=64, is_train=False, tfm=tfm_test_base, shuffle=False)\n",
    "\n",
    "train_loader_cache = build_data_loader(data_source=dataset.train_x, batch_size=256, tfm=tfm_train_base, is_train=True, shuffle=False)#用于给辅助模型\n",
    "train_loader_F = build_data_loader(data_source=dataset.train_x, batch_size=256, tfm=tfm_train_base, is_train=True, shuffle=True)#用于训练\n",
    "\n"
   ]
  },
  {
   "cell_type": "code",
   "execution_count": 7,
   "metadata": {},
   "outputs": [
    {
     "name": "stdout",
     "output_type": "stream",
     "text": [
      "Batch 1\n",
      "Data: torch.Size([256, 3, 224, 224])\n",
      "Labels: torch.Size([256])\n",
      "Batch 2\n",
      "Data: torch.Size([256, 3, 224, 224])\n",
      "Labels: torch.Size([256])\n",
      "Batch 3\n",
      "Data: torch.Size([256, 3, 224, 224])\n",
      "Labels: torch.Size([256])\n",
      "Batch 4\n",
      "Data: torch.Size([256, 3, 224, 224])\n",
      "Labels: torch.Size([256])\n"
     ]
    }
   ],
   "source": [
    "for i, (data, labels) in enumerate(train_loader_cache):\n",
    "    print(f\"Batch {i + 1}\")\n",
    "    print(\"Data:\", data.shape)\n",
    "    print(\"Labels:\", labels.shape)\n",
    "    if i == 3: \n",
    "        break"
   ]
  },
  {
   "cell_type": "code",
   "execution_count": 8,
   "metadata": {},
   "outputs": [
    {
     "name": "stderr",
     "output_type": "stream",
     "text": [
      "2024-07-10 14:00 - INFO: - Getting textual features as CLIP's classifier...\n"
     ]
    }
   ],
   "source": [
    "# Textual features\n",
    "logger.info(\"Getting textual features as CLIP's classifier...\")\n",
    "clip_weights = gpt_clip_classifier(dataset.classnames, clip_model, dataset.template)\n"
   ]
  },
  {
   "cell_type": "code",
   "execution_count": 9,
   "metadata": {},
   "outputs": [
    {
     "name": "stderr",
     "output_type": "stream",
     "text": [
      "2024-07-10 14:00 - INFO: - Load visual features of few-shot training set...\n"
     ]
    },
    {
     "name": "stdout",
     "output_type": "stream",
     "text": [
      "Augment Epoch: 0 / 1\n"
     ]
    },
    {
     "name": "stderr",
     "output_type": "stream",
     "text": [
      "100%|██████████| 6/6 [00:07<00:00,  1.22s/it]\n"
     ]
    }
   ],
   "source": [
    "# Load visual features of few-shot training set\n",
    "logger.info(\"Load visual features of few-shot training set...\")\n",
    "aux_features, aux_labels = load_aux_weight(args, aux_model, train_loader_cache, tfm_norm=tfm_aux)\n"
   ]
  },
  {
   "cell_type": "code",
   "execution_count": 10,
   "metadata": {},
   "outputs": [
    {
     "name": "stderr",
     "output_type": "stream",
     "text": [
      "2024-07-10 14:01 - INFO: - Loading visual features and labels from test set.\n",
      "2024-07-10 14:01 - INFO: - Loading CLIP test feature.\n",
      "100%|██████████| 852/852 [02:38<00:00,  5.37it/s]\n",
      "2024-07-10 14:03 - INFO: - Loading AUX test feature.\n",
      "100%|██████████| 852/852 [02:33<00:00,  5.57it/s]\n"
     ]
    }
   ],
   "source": [
    "\n",
    "# Pre-load test features\n",
    "logger.info(\"Loading visual features and labels from test set.\")\n",
    "logger.info(\"Loading CLIP test feature.\")\n",
    "test_clip_features, test_labels  = load_test_features(args, \"test\", clip_model, test_loader, tfm_norm=tfm_clip, model_name='clip')\n",
    "\n",
    "logger.info(f\"Loading AUX test feature.\")\n",
    "test_aux_features, test_labels = load_test_features(args, \"test\", aux_model, test_loader, tfm_norm=tfm_aux, model_name='aux')\n",
    "\n",
    "test_clip_features = test_clip_features.cuda()\n",
    "test_aux_features = test_aux_features.cuda()\n"
   ]
  },
  {
   "cell_type": "code",
   "execution_count": 11,
   "metadata": {},
   "outputs": [
    {
     "name": "stdout",
     "output_type": "stream",
     "text": [
      "39996/ 54510 = 73.37%\n"
     ]
    }
   ],
   "source": [
    "\n",
    "# zero shot\n",
    "tmp =  test_clip_features / test_clip_features.norm(dim=-1, keepdim=True)\n",
    "l = 100. * tmp @ clip_weights\n",
    "print(f\"{l.argmax(dim=-1).eq(test_labels.cuda()).sum().item()}/ {len(test_labels)} = {l.argmax(dim=-1).eq(test_labels.cuda()).sum().item()/len(test_labels) * 100:.2f}%\")\n"
   ]
  },
  {
   "cell_type": "code",
   "execution_count": 12,
   "metadata": {},
   "outputs": [
    {
     "name": "stdout",
     "output_type": "stream",
     "text": [
      "init adapter weight by training samples...\n"
     ]
    }
   ],
   "source": [
    "# build amu-model\n",
    "model = AMU_Model(\n",
    "    clip_model=clip_model,\n",
    "    aux_model=aux_model,\n",
    "    sample_features=[aux_features, aux_labels],\n",
    "    clip_weights=clip_weights,\n",
    "    feat_dim=args.feat_dim,\n",
    "    class_num=374,\n",
    "    lambda_merge=args.lambda_merge,\n",
    "    alpha=args.alpha,\n",
    "    uncent_type=args.uncent_type,\n",
    "    uncent_power=args.uncent_power\n",
    ")\n"
   ]
  },
  {
   "cell_type": "code",
   "execution_count": 13,
   "metadata": {},
   "outputs": [],
   "source": [
    "def freeze_bn(m):\n",
    "    classname = m.__class__.__name__\n",
    "    if classname.find('BatchNorm') != -1:\n",
    "        m.eval()\n"
   ]
  },
  {
   "cell_type": "code",
   "execution_count": 14,
   "metadata": {},
   "outputs": [],
   "source": [
    "\n",
    "def train_one_epoch(model, data_loader, optimizer, scheduler, logger):\n",
    "    # Train\n",
    "    model.train()\n",
    "    model.apply(freeze_bn) # freeze BN-layer\n",
    "    correct_samples, all_samples = 0, 0\n",
    "    loss_list = []\n",
    "    loss_aux_list = []\n",
    "    loss_merge_list = [] \n",
    "\n",
    "    # origin image\n",
    "    for i, (images, target) in enumerate(tqdm(data_loader)):\n",
    "        images, target = images.cuda(), target.cuda()\n",
    "        return_dict = model(images, labels=target)\n",
    "        \n",
    "        acc = cls_acc(return_dict['logits'], target)\n",
    "        correct_samples += acc / 100 * len(return_dict['logits'])\n",
    "        all_samples += len(return_dict['logits'])\n",
    "        \n",
    "        loss_list.append(return_dict['loss'].item())\n",
    "        loss_aux_list.append(return_dict['loss_aux'].item())\n",
    "        loss_merge_list.append(return_dict['loss_merge'].item())\n",
    "        \n",
    "        optimizer.zero_grad()\n",
    "        return_dict['loss'].backward()\n",
    "        optimizer.step()\n",
    "        scheduler.step()\n",
    "\n",
    "    current_lr = scheduler.get_last_lr()[0]\n",
    "    logger.info('LR: {:.6f}, Acc: {:.4f} ({:}/{:}), Loss: {:.4f}'.format(current_lr, correct_samples / all_samples, correct_samples, all_samples, sum(loss_list)/len(loss_list)))\n",
    "    logger.info(\"\"\"Loss_aux: {:.4f}, Loss_merge: {:.4f}\"\"\".format(sum(loss_aux_list)/len(loss_aux_list), sum(loss_merge_list)/len(loss_merge_list))) "
   ]
  },
  {
   "cell_type": "code",
   "execution_count": 15,
   "metadata": {},
   "outputs": [],
   "source": [
    "\n",
    "def train_and_eval(args, logger, model, clip_test_features, \n",
    " aux_test_features, test_labels, train_loader_F):\n",
    "    model.cuda()\n",
    "    model.requires_grad_(False)\n",
    "    model.aux_adapter.requires_grad_(True)\n",
    "    \n",
    "    optimizer = torch.optim.AdamW(\n",
    "        model.parameters(),\n",
    "        weight_decay=0.01,\n",
    "        lr=args.lr, \n",
    "        eps=1e-4\n",
    "        )\n",
    "    \n",
    "    scheduler = torch.optim.lr_scheduler.CosineAnnealingLR(optimizer, args.train_epoch * len(train_loader_F))\n",
    "    \n",
    "    best_acc, best_epoch = 0.0, 0\n",
    "\n",
    "    for train_idx in range(1, args.train_epoch + 1):\n",
    "        logger.info('Train Epoch: {:} / {:}'.format(train_idx, args.train_epoch))\n",
    "        train_one_epoch(model, train_loader_F, optimizer, scheduler, logger)\n",
    "        # Eval\n",
    "        model.eval()\n",
    "        with torch.no_grad():\n",
    "            return_dict = model(\n",
    "                clip_features=clip_test_features,\n",
    "                aux_features=aux_test_features,\n",
    "                labels=test_labels\n",
    "            )\n",
    "            acc = cls_acc(return_dict['logits'], test_labels)\n",
    "            acc_aux = cls_acc(return_dict['aux_logits'], test_labels)\n",
    "        logger.info(\"----- Aux branch's Test Acc: {:.2f} ----\".format(acc_aux))\n",
    "        logger.info(\"----- AMU's Test Acc: {:.2f} -----\\n\".format(acc))\n",
    "\n",
    "        if acc > best_acc:\n",
    "            best_acc = acc\n",
    "            best_epoch = train_idx\n",
    "            torch.save(model.aux_adapter.state_dict(), args.cache_dir + f\"/best_adapter_\" + str(args.shots) + \"shots.pt\")\n",
    "    logger.info(f\"----- Best Test Acc: {best_acc:.2f}, at epoch: {best_epoch}.-----\\n\")\n"
   ]
  },
  {
   "cell_type": "code",
   "execution_count": 16,
   "metadata": {},
   "outputs": [
    {
     "name": "stderr",
     "output_type": "stream",
     "text": [
      "2024-07-10 14:06 - INFO: - Train Epoch: 1 / 10\n",
      "100%|██████████| 6/6 [00:11<00:00,  1.87s/it]\n",
      "2024-07-10 14:06 - INFO: - LR: 0.000976, Acc: 0.8643 (1293.0/1496), Loss: 0.8214\n",
      "2024-07-10 14:06 - INFO: - Loss_aux: 1.0131, Loss_merge: 0.4655\n",
      "2024-07-10 14:06 - INFO: - ----- Aux branch's Test Acc: 34.33 ----\n",
      "2024-07-10 14:06 - INFO: - ----- AMU's Test Acc: 75.51 -----\n",
      "\n",
      "2024-07-10 14:06 - INFO: - Train Epoch: 2 / 10\n",
      "100%|██████████| 6/6 [00:11<00:00,  1.85s/it]\n",
      "2024-07-10 14:06 - INFO: - LR: 0.000905, Acc: 0.8897 (1331.0/1496), Loss: 0.5598\n",
      "2024-07-10 14:06 - INFO: - Loss_aux: 0.6586, Loss_merge: 0.3762\n",
      "2024-07-10 14:06 - INFO: - ----- Aux branch's Test Acc: 36.54 ----\n",
      "2024-07-10 14:06 - INFO: - ----- AMU's Test Acc: 75.83 -----\n",
      "\n",
      "2024-07-10 14:06 - INFO: - Train Epoch: 3 / 10\n",
      "100%|██████████| 6/6 [00:11<00:00,  1.89s/it]\n",
      "2024-07-10 14:06 - INFO: - LR: 0.000794, Acc: 0.9098 (1361.0/1496), Loss: 0.3739\n",
      "2024-07-10 14:06 - INFO: - Loss_aux: 0.4094, Loss_merge: 0.3082\n",
      "2024-07-10 14:06 - INFO: - ----- Aux branch's Test Acc: 37.24 ----\n",
      "2024-07-10 14:06 - INFO: - ----- AMU's Test Acc: 75.89 -----\n",
      "\n",
      "2024-07-10 14:06 - INFO: - Train Epoch: 4 / 10\n",
      "100%|██████████| 6/6 [00:11<00:00,  1.87s/it]\n",
      "2024-07-10 14:07 - INFO: - LR: 0.000655, Acc: 0.9325 (1395.0/1496), Loss: 0.2507\n",
      "2024-07-10 14:07 - INFO: - Loss_aux: 0.2563, Loss_merge: 0.2402\n",
      "2024-07-10 14:07 - INFO: - ----- Aux branch's Test Acc: 37.58 ----\n",
      "2024-07-10 14:07 - INFO: - ----- AMU's Test Acc: 75.90 -----\n",
      "\n",
      "2024-07-10 14:07 - INFO: - Train Epoch: 5 / 10\n",
      "100%|██████████| 6/6 [00:10<00:00,  1.83s/it]\n",
      "2024-07-10 14:07 - INFO: - LR: 0.000500, Acc: 0.9405 (1407.0/1496), Loss: 0.1886\n",
      "2024-07-10 14:07 - INFO: - Loss_aux: 0.1750, Loss_merge: 0.2138\n",
      "2024-07-10 14:07 - INFO: - ----- Aux branch's Test Acc: 37.92 ----\n",
      "2024-07-10 14:07 - INFO: - ----- AMU's Test Acc: 75.92 -----\n",
      "\n",
      "2024-07-10 14:07 - INFO: - Train Epoch: 6 / 10\n",
      "100%|██████████| 6/6 [00:11<00:00,  1.85s/it]\n",
      "2024-07-10 14:07 - INFO: - LR: 0.000345, Acc: 0.9525 (1425.0/1496), Loss: 0.1497\n",
      "2024-07-10 14:07 - INFO: - Loss_aux: 0.1297, Loss_merge: 0.1870\n",
      "2024-07-10 14:07 - INFO: - ----- Aux branch's Test Acc: 38.04 ----\n",
      "2024-07-10 14:07 - INFO: - ----- AMU's Test Acc: 75.87 -----\n",
      "\n",
      "2024-07-10 14:07 - INFO: - Train Epoch: 7 / 10\n",
      "100%|██████████| 6/6 [00:11<00:00,  1.85s/it]\n",
      "2024-07-10 14:07 - INFO: - LR: 0.000206, Acc: 0.9525 (1425.0/1496), Loss: 0.1359\n",
      "2024-07-10 14:07 - INFO: - Loss_aux: 0.1113, Loss_merge: 0.1815\n",
      "2024-07-10 14:07 - INFO: - ----- Aux branch's Test Acc: 38.19 ----\n",
      "2024-07-10 14:07 - INFO: - ----- AMU's Test Acc: 75.90 -----\n",
      "\n",
      "2024-07-10 14:07 - INFO: - Train Epoch: 8 / 10\n",
      "100%|██████████| 6/6 [00:11<00:00,  1.87s/it]\n",
      "2024-07-10 14:07 - INFO: - LR: 0.000095, Acc: 0.9612 (1438.0/1496), Loss: 0.1184\n",
      "2024-07-10 14:07 - INFO: - Loss_aux: 0.0980, Loss_merge: 0.1564\n",
      "2024-07-10 14:07 - INFO: - ----- Aux branch's Test Acc: 38.20 ----\n",
      "2024-07-10 14:07 - INFO: - ----- AMU's Test Acc: 75.91 -----\n",
      "\n",
      "2024-07-10 14:07 - INFO: - Train Epoch: 9 / 10\n",
      "100%|██████████| 6/6 [00:11<00:00,  1.86s/it]\n",
      "2024-07-10 14:08 - INFO: - LR: 0.000024, Acc: 0.9599 (1436.0/1496), Loss: 0.1210\n",
      "2024-07-10 14:08 - INFO: - Loss_aux: 0.0966, Loss_merge: 0.1663\n",
      "2024-07-10 14:08 - INFO: - ----- Aux branch's Test Acc: 38.22 ----\n",
      "2024-07-10 14:08 - INFO: - ----- AMU's Test Acc: 75.90 -----\n",
      "\n",
      "2024-07-10 14:08 - INFO: - Train Epoch: 10 / 10\n",
      "100%|██████████| 6/6 [00:10<00:00,  1.73s/it]\n",
      "2024-07-10 14:08 - INFO: - LR: 0.000000, Acc: 0.9586 (1434.0/1496), Loss: 0.1133\n",
      "2024-07-10 14:08 - INFO: - Loss_aux: 0.0904, Loss_merge: 0.1558\n",
      "2024-07-10 14:08 - INFO: - ----- Aux branch's Test Acc: 38.21 ----\n",
      "2024-07-10 14:08 - INFO: - ----- AMU's Test Acc: 75.90 -----\n",
      "\n",
      "2024-07-10 14:08 - INFO: - ----- Best Test Acc: 75.92, at epoch: 5.-----\n",
      "\n"
     ]
    }
   ],
   "source": [
    "\n",
    "train_and_eval(args, logger, model, test_clip_features,  test_aux_features, test_labels, train_loader_F )"
   ]
  },
  {
   "cell_type": "code",
   "execution_count": 17,
   "metadata": {},
   "outputs": [
    {
     "data": {
      "text/plain": [
       "<All keys matched successfully>"
      ]
     },
     "execution_count": 17,
     "metadata": {},
     "output_type": "execute_result"
    }
   ],
   "source": [
    "\n",
    "best_adapter_path = args.cache_dir + f\"/best_adapter_{args.shots}shots.pt\"\n",
    "model.aux_adapter.load_state_dict(torch.load(best_adapter_path))"
   ]
  },
  {
   "cell_type": "code",
   "execution_count": 34,
   "metadata": {},
   "outputs": [
    {
     "data": {
      "text/plain": [
       "<module 'datasets.my_test_set_2' from '/root/AMU-Tuning/datasets/my_test_set_2.py'>"
      ]
     },
     "execution_count": 34,
     "metadata": {},
     "output_type": "execute_result"
    }
   ],
   "source": [
    "from datasets import my_test_set_2\n",
    "from datasets.my_test_set_2 import MyDataSet2\n",
    "\n",
    "import importlib\n",
    "importlib.reload(my_test_set_2)"
   ]
  },
  {
   "cell_type": "code",
   "execution_count": 35,
   "metadata": {},
   "outputs": [
    {
     "name": "stdout",
     "output_type": "stream",
     "text": [
      "!!!!!\n",
      "Creating a 4-shot dataset\n"
     ]
    }
   ],
   "source": [
    "dataset=MyDataSet2(\"data\",4)\n",
    "test_loader = build_data_loader(data_source=dataset.test, batch_size=64, is_train=False, tfm=tfm_test_base, shuffle=False)"
   ]
  },
  {
   "cell_type": "code",
   "execution_count": null,
   "metadata": {},
   "outputs": [],
   "source": [
    "# for i, (data, labels) in enumerate(test_loader):\n",
    "#     print(f\"Batch {i + 1}\")\n",
    "#     print(\"Data:\", data.shape)\n",
    "#     print(\"Labels:\", labels.shape)\n",
    "#     if i == 3: \n",
    "#         break"
   ]
  },
  {
   "cell_type": "code",
   "execution_count": 70,
   "metadata": {},
   "outputs": [
    {
     "name": "stderr",
     "output_type": "stream",
     "text": [
      "100%|██████████| 49/49 [00:37<00:00,  1.31it/s]\n",
      "2024-07-10 14:44 - INFO: - Loading AUX test feature.\n",
      "100%|██████████| 49/49 [00:37<00:00,  1.31it/s]\n"
     ]
    }
   ],
   "source": [
    "test_clip_features, test_labels  = load_test_features(args, \"test\", clip_model, test_loader, tfm_norm=tfm_clip, model_name='clip')\n",
    "\n",
    "logger.info(f\"Loading AUX test feature.\")\n",
    "test_aux_features, test_labels = load_test_features(args, \"test\", aux_model, test_loader, tfm_norm=tfm_aux, model_name='aux')"
   ]
  },
  {
   "cell_type": "code",
   "execution_count": 71,
   "metadata": {},
   "outputs": [],
   "source": [
    "model.eval()\n",
    "return_dict = model(clip_features=test_clip_features,aux_features=test_aux_features)"
   ]
  },
  {
   "cell_type": "code",
   "execution_count": 72,
   "metadata": {},
   "outputs": [],
   "source": [
    "top5=return_dict['logits'].topk(5, 1, True, True)[1]"
   ]
  },
  {
   "cell_type": "code",
   "execution_count": null,
   "metadata": {},
   "outputs": [],
   "source": []
  },
  {
   "cell_type": "code",
   "execution_count": 82,
   "metadata": {},
   "outputs": [
    {
     "name": "stderr",
     "output_type": "stream",
     "text": [
      "100%|██████████| 3073/3073 [00:00<00:00, 116038.53it/s]"
     ]
    },
    {
     "name": "stdout",
     "output_type": "stream",
     "text": [
      "image_354.png\n",
      "??????\n",
      "写入完成,共计 3073\n"
     ]
    },
    {
     "name": "stderr",
     "output_type": "stream",
     "text": [
      "\n"
     ]
    }
   ],
   "source": [
    "#提交的数据集\n",
    "test_labels_list=test_labels.tolist()\n",
    "top5_list=top5.tolist()\n",
    "save_path='data/result.txt'\n",
    "save_file = open(save_path, 'w')\n",
    "count=0\n",
    "for i in tqdm(range(len(test_labels_list))) :\n",
    "    temp=\"image_\"+str(test_labels_list[i])\n",
    "    name=temp+\".jpg\"\n",
    "    # print(name)\n",
    "    if not os.path.exists(\"data/TestSetA/\"+name):\n",
    "        name=temp+\".jpeg\"\n",
    "    if not os.path.exists(\"data/TestSetA/\"+name):\n",
    "        name=temp+\".png\"\n",
    "        print(name)\n",
    "        print(\"??????\")\n",
    "    save_file.write(name + ' ' +' '.join([str(p) for p in top5_list[i]]) + '\\n')  \n",
    "    \n",
    "    count+=1\n",
    "    # break\n",
    "print(\"写入完成,共计\",count)\n",
    "save_file.close()\n"
   ]
  },
  {
   "cell_type": "code",
   "execution_count": 83,
   "metadata": {},
   "outputs": [
    {
     "name": "stdout",
     "output_type": "stream",
     "text": [
      "data/result.txt 已压缩为 data/result.zip 并删除原文件。\n"
     ]
    }
   ],
   "source": [
    "import zipfile\n",
    "# 压缩结果文件\n",
    "zip_file_path = 'data/result.zip'\n",
    "with zipfile.ZipFile(zip_file_path, 'w') as zipf:\n",
    "    zipf.write(save_path, os.path.basename(save_path))\n",
    "\n",
    "# 删除原文件\n",
    "# os.remove(save_path)\n",
    "print(f\"{save_path} 已压缩为 {zip_file_path} 并删除原文件。\")"
   ]
  },
  {
   "cell_type": "code",
   "execution_count": 79,
   "metadata": {},
   "outputs": [
    {
     "data": {
      "text/plain": [
       "3073"
      ]
     },
     "execution_count": 79,
     "metadata": {},
     "output_type": "execute_result"
    }
   ],
   "source": [
    "len(os.listdir(\"data/TestSetA/\"))"
   ]
  },
  {
   "cell_type": "code",
   "execution_count": null,
   "metadata": {},
   "outputs": [],
   "source": []
  }
 ],
 "metadata": {
  "kernelspec": {
   "display_name": "pyt",
   "language": "python",
   "name": "python3"
  },
  "language_info": {
   "codemirror_mode": {
    "name": "ipython",
    "version": 3
   },
   "file_extension": ".py",
   "mimetype": "text/x-python",
   "name": "python",
   "nbconvert_exporter": "python",
   "pygments_lexer": "ipython3",
   "version": "3.10.11"
  }
 },
 "nbformat": 4,
 "nbformat_minor": 2
}
