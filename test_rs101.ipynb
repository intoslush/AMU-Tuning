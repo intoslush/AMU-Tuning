{
 "cells": [
  {
   "cell_type": "code",
   "execution_count": 1,
   "metadata": {},
   "outputs": [],
   "source": [
    "import os\n",
    "import random\n",
    "from tqdm import tqdm\n",
    "\n",
    "import torch\n",
    "\n",
    "from datasets.imagenet import ImageNet\n",
    "import clip\n",
    "from utils import *\n",
    "from clip.moco import load_moco\n",
    "from clip.amu import *\n",
    "from parse_args import parse_args"
   ]
  },
  {
   "cell_type": "code",
   "execution_count": 2,
   "metadata": {},
   "outputs": [],
   "source": [
    "parser = parse_args()\n",
    "# args = parser.parse_args()\n",
    "args, _ = parser.parse_known_args(['--rand_seed', '2',\n",
    "                                  '--torch_rand_seed', '3407',\n",
    "                                  '--exp_name', 'test_16_shot',#ViT-B-16,RN101\n",
    "                                  '--clip_backbone', 'ViT-B-32',\n",
    "                                  '--augment_epoch', '1',\n",
    "                                  '--alpha', '0.5',\n",
    "                                  '--lambda_merge', '0.35',\n",
    "                                  '--train_epoch', '10',\n",
    "                                  '--lr', '1e-3',\n",
    "                                  '--batch_size', '8',\n",
    "                                  '--shots', '4',\n",
    "                                  '--root_path', 'data',\n",
    "                                  '--dataset','oxford_pets',\n",
    "                                  '--uncent_type','max'\n",
    "                                #   '--load_aux_weight'\n",
    "                                  ])"
   ]
  },
  {
   "cell_type": "code",
   "execution_count": 3,
   "metadata": {},
   "outputs": [
    {
     "name": "stderr",
     "output_type": "stream",
     "text": [
      "2024-07-13 15:02 - INFO: - \n",
      "Running configs.\n",
      "2024-07-13 15:02 - INFO: - exp_name            : test_16_shot\n",
      "rand_seed           : 2\n",
      "torch_rand_seed     : 3407\n",
      "root_path           : data\n",
      "dataset             : oxford_pets\n",
      "shots               : 4\n",
      "train_epoch         : 10\n",
      "lr                  : 0.001\n",
      "load_pre_feat       : False\n",
      "clip_backbone       : ViT-B-32\n",
      "batch_size          : 8\n",
      "val_batch_size      : 256\n",
      "num_classes         : 1000\n",
      "augment_epoch       : 1\n",
      "load_aux_weight     : False\n",
      "alpha               : 0.5\n",
      "lambda_merge        : 0.35\n",
      "uncent_type         : max\n",
      "uncent_power        : 0.4\n",
      "cache_dir           : ./caches/oxford_pets\n"
     ]
    }
   ],
   "source": [
    "cache_dir = os.path.join('./caches', args.dataset)\n",
    "os.makedirs(cache_dir, exist_ok=True)\n",
    "args.cache_dir = cache_dir\n",
    "\n",
    "logger = config_logging(args)\n",
    "logger.info(\"\\nRunning configs.\")\n",
    "args_dict = vars(args)\n",
    "message = '\\n'.join([f'{k:<20}: {v}' for k, v in args_dict.items()])\n",
    "logger.info(message)"
   ]
  },
  {
   "cell_type": "code",
   "execution_count": 4,
   "metadata": {},
   "outputs": [
    {
     "ename": "KeyboardInterrupt",
     "evalue": "",
     "output_type": "error",
     "traceback": [
      "\u001b[0;31m---------------------------------------------------------------------------\u001b[0m",
      "\u001b[0;31mKeyboardInterrupt\u001b[0m                         Traceback (most recent call last)",
      "Cell \u001b[0;32mIn[4], line 2\u001b[0m\n\u001b[1;32m      1\u001b[0m \u001b[38;5;66;03m# CLIP\u001b[39;00m\n\u001b[0;32m----> 2\u001b[0m clip_model, preprocess \u001b[38;5;241m=\u001b[39m \u001b[43mclip\u001b[49m\u001b[38;5;241;43m.\u001b[39;49m\u001b[43mload\u001b[49m\u001b[43m(\u001b[49m\u001b[43margs\u001b[49m\u001b[38;5;241;43m.\u001b[39;49m\u001b[43mclip_backbone\u001b[49m\u001b[43m)\u001b[49m\n\u001b[1;32m      3\u001b[0m clip_model\u001b[38;5;241m.\u001b[39meval()\n",
      "File \u001b[0;32m~/AMU-Tuning/clip/clip.py:134\u001b[0m, in \u001b[0;36mload\u001b[0;34m(name, device, jit, download_root)\u001b[0m\n\u001b[1;32m    131\u001b[0m     state_dict \u001b[38;5;241m=\u001b[39m torch\u001b[38;5;241m.\u001b[39mload(model_path, map_location\u001b[38;5;241m=\u001b[39m\u001b[38;5;124m\"\u001b[39m\u001b[38;5;124mcpu\u001b[39m\u001b[38;5;124m\"\u001b[39m)\n\u001b[1;32m    133\u001b[0m \u001b[38;5;28;01mif\u001b[39;00m \u001b[38;5;129;01mnot\u001b[39;00m jit:\n\u001b[0;32m--> 134\u001b[0m     model \u001b[38;5;241m=\u001b[39m \u001b[43mbuild_model\u001b[49m\u001b[43m(\u001b[49m\u001b[43mstate_dict\u001b[49m\u001b[43m \u001b[49m\u001b[38;5;129;43;01mor\u001b[39;49;00m\u001b[43m \u001b[49m\u001b[43mmodel\u001b[49m\u001b[38;5;241;43m.\u001b[39;49m\u001b[43mstate_dict\u001b[49m\u001b[43m(\u001b[49m\u001b[43m)\u001b[49m\u001b[43m)\u001b[49m\u001b[38;5;241;43m.\u001b[39;49m\u001b[43mto\u001b[49m\u001b[43m(\u001b[49m\u001b[43mdevice\u001b[49m\u001b[43m)\u001b[49m\n\u001b[1;32m    135\u001b[0m     \u001b[38;5;28;01mif\u001b[39;00m \u001b[38;5;28mstr\u001b[39m(device) \u001b[38;5;241m==\u001b[39m \u001b[38;5;124m\"\u001b[39m\u001b[38;5;124mcpu\u001b[39m\u001b[38;5;124m\"\u001b[39m:\n\u001b[1;32m    136\u001b[0m         model\u001b[38;5;241m.\u001b[39mfloat()\n",
      "File \u001b[0;32m~/miniconda3/envs/pyt/lib/python3.10/site-packages/torch/nn/modules/module.py:1145\u001b[0m, in \u001b[0;36mModule.to\u001b[0;34m(self, *args, **kwargs)\u001b[0m\n\u001b[1;32m   1141\u001b[0m         \u001b[38;5;28;01mreturn\u001b[39;00m t\u001b[38;5;241m.\u001b[39mto(device, dtype \u001b[38;5;28;01mif\u001b[39;00m t\u001b[38;5;241m.\u001b[39mis_floating_point() \u001b[38;5;129;01mor\u001b[39;00m t\u001b[38;5;241m.\u001b[39mis_complex() \u001b[38;5;28;01melse\u001b[39;00m \u001b[38;5;28;01mNone\u001b[39;00m,\n\u001b[1;32m   1142\u001b[0m                     non_blocking, memory_format\u001b[38;5;241m=\u001b[39mconvert_to_format)\n\u001b[1;32m   1143\u001b[0m     \u001b[38;5;28;01mreturn\u001b[39;00m t\u001b[38;5;241m.\u001b[39mto(device, dtype \u001b[38;5;28;01mif\u001b[39;00m t\u001b[38;5;241m.\u001b[39mis_floating_point() \u001b[38;5;129;01mor\u001b[39;00m t\u001b[38;5;241m.\u001b[39mis_complex() \u001b[38;5;28;01melse\u001b[39;00m \u001b[38;5;28;01mNone\u001b[39;00m, non_blocking)\n\u001b[0;32m-> 1145\u001b[0m \u001b[38;5;28;01mreturn\u001b[39;00m \u001b[38;5;28;43mself\u001b[39;49m\u001b[38;5;241;43m.\u001b[39;49m\u001b[43m_apply\u001b[49m\u001b[43m(\u001b[49m\u001b[43mconvert\u001b[49m\u001b[43m)\u001b[49m\n",
      "File \u001b[0;32m~/miniconda3/envs/pyt/lib/python3.10/site-packages/torch/nn/modules/module.py:797\u001b[0m, in \u001b[0;36mModule._apply\u001b[0;34m(self, fn)\u001b[0m\n\u001b[1;32m    795\u001b[0m \u001b[38;5;28;01mdef\u001b[39;00m \u001b[38;5;21m_apply\u001b[39m(\u001b[38;5;28mself\u001b[39m, fn):\n\u001b[1;32m    796\u001b[0m     \u001b[38;5;28;01mfor\u001b[39;00m module \u001b[38;5;129;01min\u001b[39;00m \u001b[38;5;28mself\u001b[39m\u001b[38;5;241m.\u001b[39mchildren():\n\u001b[0;32m--> 797\u001b[0m         \u001b[43mmodule\u001b[49m\u001b[38;5;241;43m.\u001b[39;49m\u001b[43m_apply\u001b[49m\u001b[43m(\u001b[49m\u001b[43mfn\u001b[49m\u001b[43m)\u001b[49m\n\u001b[1;32m    799\u001b[0m     \u001b[38;5;28;01mdef\u001b[39;00m \u001b[38;5;21mcompute_should_use_set_data\u001b[39m(tensor, tensor_applied):\n\u001b[1;32m    800\u001b[0m         \u001b[38;5;28;01mif\u001b[39;00m torch\u001b[38;5;241m.\u001b[39m_has_compatible_shallow_copy_type(tensor, tensor_applied):\n\u001b[1;32m    801\u001b[0m             \u001b[38;5;66;03m# If the new tensor has compatible tensor type as the existing tensor,\u001b[39;00m\n\u001b[1;32m    802\u001b[0m             \u001b[38;5;66;03m# the current behavior is to change the tensor in-place using `.data =`,\u001b[39;00m\n\u001b[0;32m   (...)\u001b[0m\n\u001b[1;32m    807\u001b[0m             \u001b[38;5;66;03m# global flag to let the user control whether they want the future\u001b[39;00m\n\u001b[1;32m    808\u001b[0m             \u001b[38;5;66;03m# behavior of overwriting the existing tensor or not.\u001b[39;00m\n",
      "File \u001b[0;32m~/miniconda3/envs/pyt/lib/python3.10/site-packages/torch/nn/modules/module.py:797\u001b[0m, in \u001b[0;36mModule._apply\u001b[0;34m(self, fn)\u001b[0m\n\u001b[1;32m    795\u001b[0m \u001b[38;5;28;01mdef\u001b[39;00m \u001b[38;5;21m_apply\u001b[39m(\u001b[38;5;28mself\u001b[39m, fn):\n\u001b[1;32m    796\u001b[0m     \u001b[38;5;28;01mfor\u001b[39;00m module \u001b[38;5;129;01min\u001b[39;00m \u001b[38;5;28mself\u001b[39m\u001b[38;5;241m.\u001b[39mchildren():\n\u001b[0;32m--> 797\u001b[0m         \u001b[43mmodule\u001b[49m\u001b[38;5;241;43m.\u001b[39;49m\u001b[43m_apply\u001b[49m\u001b[43m(\u001b[49m\u001b[43mfn\u001b[49m\u001b[43m)\u001b[49m\n\u001b[1;32m    799\u001b[0m     \u001b[38;5;28;01mdef\u001b[39;00m \u001b[38;5;21mcompute_should_use_set_data\u001b[39m(tensor, tensor_applied):\n\u001b[1;32m    800\u001b[0m         \u001b[38;5;28;01mif\u001b[39;00m torch\u001b[38;5;241m.\u001b[39m_has_compatible_shallow_copy_type(tensor, tensor_applied):\n\u001b[1;32m    801\u001b[0m             \u001b[38;5;66;03m# If the new tensor has compatible tensor type as the existing tensor,\u001b[39;00m\n\u001b[1;32m    802\u001b[0m             \u001b[38;5;66;03m# the current behavior is to change the tensor in-place using `.data =`,\u001b[39;00m\n\u001b[0;32m   (...)\u001b[0m\n\u001b[1;32m    807\u001b[0m             \u001b[38;5;66;03m# global flag to let the user control whether they want the future\u001b[39;00m\n\u001b[1;32m    808\u001b[0m             \u001b[38;5;66;03m# behavior of overwriting the existing tensor or not.\u001b[39;00m\n",
      "File \u001b[0;32m~/miniconda3/envs/pyt/lib/python3.10/site-packages/torch/nn/modules/module.py:820\u001b[0m, in \u001b[0;36mModule._apply\u001b[0;34m(self, fn)\u001b[0m\n\u001b[1;32m    816\u001b[0m \u001b[38;5;66;03m# Tensors stored in modules are graph leaves, and we don't want to\u001b[39;00m\n\u001b[1;32m    817\u001b[0m \u001b[38;5;66;03m# track autograd history of `param_applied`, so we have to use\u001b[39;00m\n\u001b[1;32m    818\u001b[0m \u001b[38;5;66;03m# `with torch.no_grad():`\u001b[39;00m\n\u001b[1;32m    819\u001b[0m \u001b[38;5;28;01mwith\u001b[39;00m torch\u001b[38;5;241m.\u001b[39mno_grad():\n\u001b[0;32m--> 820\u001b[0m     param_applied \u001b[38;5;241m=\u001b[39m \u001b[43mfn\u001b[49m\u001b[43m(\u001b[49m\u001b[43mparam\u001b[49m\u001b[43m)\u001b[49m\n\u001b[1;32m    821\u001b[0m should_use_set_data \u001b[38;5;241m=\u001b[39m compute_should_use_set_data(param, param_applied)\n\u001b[1;32m    822\u001b[0m \u001b[38;5;28;01mif\u001b[39;00m should_use_set_data:\n",
      "File \u001b[0;32m~/miniconda3/envs/pyt/lib/python3.10/site-packages/torch/nn/modules/module.py:1143\u001b[0m, in \u001b[0;36mModule.to.<locals>.convert\u001b[0;34m(t)\u001b[0m\n\u001b[1;32m   1140\u001b[0m \u001b[38;5;28;01mif\u001b[39;00m convert_to_format \u001b[38;5;129;01mis\u001b[39;00m \u001b[38;5;129;01mnot\u001b[39;00m \u001b[38;5;28;01mNone\u001b[39;00m \u001b[38;5;129;01mand\u001b[39;00m t\u001b[38;5;241m.\u001b[39mdim() \u001b[38;5;129;01min\u001b[39;00m (\u001b[38;5;241m4\u001b[39m, \u001b[38;5;241m5\u001b[39m):\n\u001b[1;32m   1141\u001b[0m     \u001b[38;5;28;01mreturn\u001b[39;00m t\u001b[38;5;241m.\u001b[39mto(device, dtype \u001b[38;5;28;01mif\u001b[39;00m t\u001b[38;5;241m.\u001b[39mis_floating_point() \u001b[38;5;129;01mor\u001b[39;00m t\u001b[38;5;241m.\u001b[39mis_complex() \u001b[38;5;28;01melse\u001b[39;00m \u001b[38;5;28;01mNone\u001b[39;00m,\n\u001b[1;32m   1142\u001b[0m                 non_blocking, memory_format\u001b[38;5;241m=\u001b[39mconvert_to_format)\n\u001b[0;32m-> 1143\u001b[0m \u001b[38;5;28;01mreturn\u001b[39;00m \u001b[43mt\u001b[49m\u001b[38;5;241;43m.\u001b[39;49m\u001b[43mto\u001b[49m\u001b[43m(\u001b[49m\u001b[43mdevice\u001b[49m\u001b[43m,\u001b[49m\u001b[43m \u001b[49m\u001b[43mdtype\u001b[49m\u001b[43m \u001b[49m\u001b[38;5;28;43;01mif\u001b[39;49;00m\u001b[43m \u001b[49m\u001b[43mt\u001b[49m\u001b[38;5;241;43m.\u001b[39;49m\u001b[43mis_floating_point\u001b[49m\u001b[43m(\u001b[49m\u001b[43m)\u001b[49m\u001b[43m \u001b[49m\u001b[38;5;129;43;01mor\u001b[39;49;00m\u001b[43m \u001b[49m\u001b[43mt\u001b[49m\u001b[38;5;241;43m.\u001b[39;49m\u001b[43mis_complex\u001b[49m\u001b[43m(\u001b[49m\u001b[43m)\u001b[49m\u001b[43m \u001b[49m\u001b[38;5;28;43;01melse\u001b[39;49;00m\u001b[43m \u001b[49m\u001b[38;5;28;43;01mNone\u001b[39;49;00m\u001b[43m,\u001b[49m\u001b[43m \u001b[49m\u001b[43mnon_blocking\u001b[49m\u001b[43m)\u001b[49m\n",
      "\u001b[0;31mKeyboardInterrupt\u001b[0m: "
     ]
    }
   ],
   "source": [
    "\n",
    "# CLIP\n",
    "clip_model, preprocess = clip.load(args.clip_backbone)\n",
    "clip_model.eval()\n"
   ]
  },
  {
   "cell_type": "code",
   "execution_count": null,
   "metadata": {},
   "outputs": [],
   "source": [
    "\n",
    "# AUX MODEL \n",
    "\n",
    "# aux_model, args.feat_dim = load_moco(\"data/r-50-1000ep.pth.tar\")#Aux model path\n",
    "# print(aux_model(torch.rand(32,3,224,224).cuda()).shape)#输出辅助特征温度\n",
    "aux_model, preprocess_aux=clip.load('RN101')\n",
    "args.feat_dim=512\n",
    "aux_model.cuda()\n",
    "aux_model.eval() "
   ]
  },
  {
   "cell_type": "code",
   "execution_count": null,
   "metadata": {},
   "outputs": [],
   "source": [
    "# clip_model.visual(torch.rand(32,3,224,224).cuda()).shape\n",
    "clip_model.encode_image(torch.rand(32,3,224,224).cuda()).shape\n",
    "clip_model.encode_image(torch.rand(32,3,224,224).cuda())[0]"
   ]
  },
  {
   "cell_type": "code",
   "execution_count": null,
   "metadata": {},
   "outputs": [],
   "source": [
    "# ImageNet dataset\n",
    "random.seed(args.rand_seed)\n",
    "torch.manual_seed(args.torch_rand_seed)"
   ]
  },
  {
   "cell_type": "code",
   "execution_count": null,
   "metadata": {},
   "outputs": [],
   "source": [
    "from datasets import build_dataset\n",
    "from datasets.utils import build_data_loader\n"
   ]
  },
  {
   "cell_type": "code",
   "execution_count": null,
   "metadata": {},
   "outputs": [],
   "source": [
    "from datasets.oxford_pets import OxfordPets\n",
    "from datasets.my_test_set import MyDataSet\n",
    "from utils import tfm_train_base, tfm_test_base\n",
    "\n",
    "dataset=MyDataSet(\"data\",4,1)\n",
    "val_loader = build_data_loader(data_source=dataset.val, batch_size=128, is_train=False, tfm=tfm_test_base, shuffle=False)\n",
    "test_loader = build_data_loader(data_source=dataset.test, batch_size=128, is_train=False, tfm=tfm_test_base, shuffle=False)\n",
    "\n",
    "train_loader_cache = build_data_loader(data_source=dataset.train_x, batch_size=256, tfm=tfm_train_base, is_train=True, shuffle=False)#用于给辅助模型\n",
    "train_loader_F = build_data_loader(data_source=dataset.train_x, batch_size=args.batch_size, tfm=tfm_train_base, is_train=True, shuffle=True)#用于训练\n",
    "\n"
   ]
  },
  {
   "cell_type": "code",
   "execution_count": null,
   "metadata": {},
   "outputs": [],
   "source": [
    "# for i, (data, labels) in enumerate(train_loader_cache):\n",
    "#     print(f\"Batch {i + 1}\")\n",
    "#     print(\"Data:\", data.shape)\n",
    "#     print(\"Labels:\", labels.shape)\n",
    "#     if i == 3: \n",
    "#         break"
   ]
  },
  {
   "cell_type": "code",
   "execution_count": null,
   "metadata": {},
   "outputs": [],
   "source": [
    "# Textual features\n",
    "logger.info(\"Getting textual features as CLIP's classifier...\")\n",
    "clip_weights = gpt_clip_classifier(dataset.classnames, clip_model, dataset.template)\n"
   ]
  },
  {
   "cell_type": "code",
   "execution_count": null,
   "metadata": {},
   "outputs": [],
   "source": [
    "# Load visual features of few-shot training set\n",
    "logger.info(\"Load visual features of few-shot training set...\")\n",
    "aux_features, aux_labels = load_aux_weight(args, aux_model.encode_image, train_loader_cache, tfm_norm=tfm_aux)\n"
   ]
  },
  {
   "cell_type": "code",
   "execution_count": null,
   "metadata": {},
   "outputs": [],
   "source": [
    "\n",
    "# Pre-load test features\n",
    "logger.info(\"Loading visual features and labels from test set.\")\n",
    "logger.info(\"Loading CLIP test feature.\")\n",
    "args.load_pre_feat=True\n",
    "test_clip_features, test_labels  = load_test_features(args, \"test\", clip_model, test_loader, tfm_norm=tfm_clip, model_name='clip')\n"
   ]
  },
  {
   "cell_type": "code",
   "execution_count": null,
   "metadata": {},
   "outputs": [],
   "source": [
    "\n",
    "# zero shot\n",
    "tmp =  test_clip_features / test_clip_features.norm(dim=-1, keepdim=True)\n",
    "l = 100. * tmp @ clip_weights\n",
    "print(f\"{l.argmax(dim=-1).eq(test_labels.cuda()).sum().item()}/ {len(test_labels)} = {l.argmax(dim=-1).eq(test_labels.cuda()).sum().item()/len(test_labels) * 100:.2f}%\")\n"
   ]
  },
  {
   "cell_type": "code",
   "execution_count": null,
   "metadata": {},
   "outputs": [],
   "source": [
    "\n",
    "logger.info(f\"Loading AUX test feature.\")\n",
    "# args.load_pre_feat=True\n",
    "test_aux_features, test_labels = load_test_features(args, \"test\", aux_model, test_loader, tfm_norm=tfm_aux, model_name='aux')\n",
    "\n",
    "test_clip_features = test_clip_features.cuda()\n",
    "test_aux_features = test_aux_features.cuda()\n"
   ]
  },
  {
   "cell_type": "code",
   "execution_count": null,
   "metadata": {},
   "outputs": [],
   "source": [
    "import importlib\n",
    "importlib.reload(clip.amu)"
   ]
  },
  {
   "cell_type": "code",
   "execution_count": null,
   "metadata": {},
   "outputs": [],
   "source": [
    "# build amu-model\n",
    "model = AMU_Model(\n",
    "    clip_model=clip_model,\n",
    "    aux_model=aux_model.encode_image,\n",
    "    sample_features=[aux_features, aux_labels],\n",
    "    clip_weights=clip_weights,\n",
    "    feat_dim=args.feat_dim,\n",
    "    class_num=374,\n",
    "    lambda_merge=args.lambda_merge,\n",
    "    alpha=args.alpha,\n",
    "    uncent_type=args.uncent_type,\n",
    "    uncent_power=args.uncent_power\n",
    ")\n"
   ]
  },
  {
   "cell_type": "code",
   "execution_count": null,
   "metadata": {},
   "outputs": [],
   "source": [
    "def freeze_bn(m):\n",
    "    classname = m.__class__.__name__\n",
    "    if classname.find('BatchNorm') != -1:\n",
    "        m.eval()\n"
   ]
  },
  {
   "cell_type": "code",
   "execution_count": null,
   "metadata": {},
   "outputs": [],
   "source": [
    "\n",
    "def train_one_epoch(model, data_loader, optimizer, scheduler, logger):\n",
    "    # Train\n",
    "    model.train()\n",
    "    model.apply(freeze_bn) # freeze BN-layer\n",
    "    correct_samples, all_samples = 0, 0\n",
    "    loss_list = []\n",
    "    loss_aux_list = []\n",
    "    loss_merge_list = [] \n",
    "\n",
    "    # origin image\n",
    "    for i, (images, target) in enumerate(tqdm(data_loader)):\n",
    "        images, target = images.cuda(), target.cuda()\n",
    "        print('images[0].dtype',images[0].dtype)\n",
    "        return_dict = model(images, labels=target)\n",
    "        \n",
    "        acc = cls_acc(return_dict['logits'], target)\n",
    "        correct_samples += acc / 100 * len(return_dict['logits'])\n",
    "        all_samples += len(return_dict['logits'])\n",
    "        \n",
    "        loss_list.append(return_dict['loss'].item())\n",
    "        loss_aux_list.append(return_dict['loss_aux'].item())\n",
    "        loss_merge_list.append(return_dict['loss_merge'].item())\n",
    "        \n",
    "        optimizer.zero_grad()\n",
    "        return_dict['loss'].backward()\n",
    "        optimizer.step()\n",
    "        scheduler.step()\n",
    "\n",
    "    current_lr = scheduler.get_last_lr()[0]\n",
    "    logger.info('LR: {:.6f}, Acc: {:.4f} ({:}/{:}), Loss: {:.4f}'.format(current_lr, correct_samples / all_samples, correct_samples, all_samples, sum(loss_list)/len(loss_list)))\n",
    "    logger.info(\"\"\"Loss_aux: {:.4f}, Loss_merge: {:.4f}\"\"\".format(sum(loss_aux_list)/len(loss_aux_list), sum(loss_merge_list)/len(loss_merge_list))) "
   ]
  },
  {
   "cell_type": "code",
   "execution_count": null,
   "metadata": {},
   "outputs": [],
   "source": [
    "\n",
    "def train_and_eval(args, logger, model, clip_test_features, \n",
    " aux_test_features, test_labels, train_loader_F):\n",
    "    model.cuda()\n",
    "    model.requires_grad_(False)\n",
    "    model.aux_adapter.requires_grad_(True)\n",
    "    \n",
    "    optimizer = torch.optim.AdamW(\n",
    "        model.parameters(),\n",
    "        weight_decay=0.01,\n",
    "        lr=args.lr, \n",
    "        eps=1e-4\n",
    "        )\n",
    "    \n",
    "    scheduler = torch.optim.lr_scheduler.CosineAnnealingLR(optimizer, args.train_epoch * len(train_loader_F))\n",
    "    \n",
    "    best_acc, best_epoch = 0.0, 0\n",
    "\n",
    "    for train_idx in range(1, args.train_epoch + 1):\n",
    "        logger.info('Train Epoch: {:} / {:}'.format(train_idx, args.train_epoch))\n",
    "        train_one_epoch(model, train_loader_F, optimizer, scheduler, logger)\n",
    "        # Eval\n",
    "        model.eval()\n",
    "        with torch.no_grad():\n",
    "            return_dict = model(\n",
    "                clip_features=clip_test_features,\n",
    "                aux_features=aux_test_features,\n",
    "                labels=test_labels\n",
    "            )\n",
    "            acc = cls_acc(return_dict['logits'], test_labels)\n",
    "            acc_aux = cls_acc(return_dict['aux_logits'], test_labels)\n",
    "        logger.info(\"----- Aux branch's Test Acc: {:.2f} ----\".format(acc_aux))\n",
    "        logger.info(\"----- AMU's Test Acc: {:.2f} -----\\n\".format(acc))\n",
    "\n",
    "        if acc > best_acc:\n",
    "            best_acc = acc\n",
    "            best_epoch = train_idx\n",
    "            torch.save(model.aux_adapter.state_dict(), args.cache_dir + f\"/best_adapter_\" + str(args.shots) + \"shots.pt\")\n",
    "    logger.info(f\"----- Best Test Acc: {best_acc:.2f}, at epoch: {best_epoch}.-----\\n\")\n"
   ]
  },
  {
   "cell_type": "code",
   "execution_count": null,
   "metadata": {},
   "outputs": [],
   "source": [
    "\n",
    "train_and_eval(args, logger, model, test_clip_features,test_aux_features, test_labels, train_loader_F )"
   ]
  },
  {
   "cell_type": "code",
   "execution_count": null,
   "metadata": {},
   "outputs": [],
   "source": [
    "\n",
    "best_adapter_path = args.cache_dir + f\"/best_adapter_{args.shots}shots.pt\"\n",
    "model.aux_adapter.load_state_dict(torch.load(best_adapter_path))"
   ]
  },
  {
   "cell_type": "code",
   "execution_count": null,
   "metadata": {},
   "outputs": [],
   "source": [
    "from datasets import my_test_set_2\n",
    "from datasets.my_test_set_2 import MyDataSet2\n",
    "\n",
    "import importlib\n",
    "importlib.reload(my_test_set_2)"
   ]
  },
  {
   "cell_type": "code",
   "execution_count": null,
   "metadata": {},
   "outputs": [],
   "source": [
    "dataset=MyDataSet2(\"data\",4)\n",
    "test_loader = build_data_loader(data_source=dataset.test, batch_size=64, is_train=False, tfm=tfm_test_base, shuffle=False)"
   ]
  },
  {
   "cell_type": "code",
   "execution_count": null,
   "metadata": {},
   "outputs": [],
   "source": [
    "# for i, (data, labels) in enumerate(test_loader):\n",
    "#     print(f\"Batch {i + 1}\")\n",
    "#     print(\"Data:\", data.shape)\n",
    "#     print(\"Labels:\", labels.shape)\n",
    "#     if i == 3: \n",
    "#         break"
   ]
  },
  {
   "cell_type": "code",
   "execution_count": null,
   "metadata": {},
   "outputs": [],
   "source": [
    "test_clip_features, test_labels  = load_test_features(args, \"test\", clip_model, test_loader, tfm_norm=tfm_clip, model_name='clip')\n",
    "\n",
    "logger.info(f\"Loading AUX test feature.\")\n",
    "test_aux_features, test_labels = load_test_features(args, \"test\", aux_model, test_loader, tfm_norm=tfm_aux, model_name='aux')"
   ]
  },
  {
   "cell_type": "code",
   "execution_count": null,
   "metadata": {},
   "outputs": [],
   "source": [
    "model.eval()\n",
    "return_dict = model(clip_features=test_clip_features,aux_features=test_aux_features)"
   ]
  },
  {
   "cell_type": "code",
   "execution_count": null,
   "metadata": {},
   "outputs": [],
   "source": [
    "top5=return_dict['logits'].topk(5, 1, True, True)[1]"
   ]
  },
  {
   "cell_type": "code",
   "execution_count": null,
   "metadata": {},
   "outputs": [],
   "source": []
  },
  {
   "cell_type": "code",
   "execution_count": null,
   "metadata": {},
   "outputs": [],
   "source": [
    "#提交的数据集\n",
    "test_labels_list=test_labels.tolist()\n",
    "top5_list=top5.tolist()\n",
    "save_path='data/result.txt'\n",
    "save_file = open(save_path, 'w')\n",
    "count=0\n",
    "for i in tqdm(range(len(test_labels_list))) :\n",
    "    temp=\"image_\"+str(test_labels_list[i])\n",
    "    name=temp+\".jpg\"\n",
    "    # print(name)\n",
    "    if not os.path.exists(\"data/TestSetA/\"+name):\n",
    "        name=temp+\".jpeg\"\n",
    "    if not os.path.exists(\"data/TestSetA/\"+name):\n",
    "        name=temp+\".png\"\n",
    "        print(name)\n",
    "        print(\"??????\")\n",
    "    save_file.write(name + ' ' +' '.join([str(p) for p in top5_list[i]]) + '\\n')  \n",
    "    \n",
    "    count+=1\n",
    "    # break\n",
    "print(\"写入完成,共计\",count)\n",
    "save_file.close()\n"
   ]
  },
  {
   "cell_type": "code",
   "execution_count": null,
   "metadata": {},
   "outputs": [],
   "source": [
    "import zipfile\n",
    "# 压缩结果文件\n",
    "zip_file_path = 'data/result.zip'\n",
    "with zipfile.ZipFile(zip_file_path, 'w') as zipf:\n",
    "    zipf.write(save_path, os.path.basename(save_path))\n",
    "\n",
    "# 删除原文件\n",
    "# os.remove(save_path)\n",
    "print(f\"{save_path} 已压缩为 {zip_file_path} 并删除原文件。\")"
   ]
  },
  {
   "cell_type": "code",
   "execution_count": null,
   "metadata": {},
   "outputs": [],
   "source": [
    "len(os.listdir(\"data/TestSetA/\"))"
   ]
  },
  {
   "cell_type": "code",
   "execution_count": null,
   "metadata": {},
   "outputs": [],
   "source": []
  }
 ],
 "metadata": {
  "kernelspec": {
   "display_name": "pyt",
   "language": "python",
   "name": "python3"
  },
  "language_info": {
   "codemirror_mode": {
    "name": "ipython",
    "version": 3
   },
   "file_extension": ".py",
   "mimetype": "text/x-python",
   "name": "python",
   "nbconvert_exporter": "python",
   "pygments_lexer": "ipython3",
   "version": "3.10.11"
  }
 },
 "nbformat": 4,
 "nbformat_minor": 2
}
